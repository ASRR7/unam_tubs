{
  "cells": [
    {
      "cell_type": "markdown",
      "source": [
        "<center>\n",
        "<img src=\"https://www.plri.de/assets/images/logo_plri_de.png\"\n",
        "width=\"200\">\n",
        "<img src=\"https://upload.wikimedia.org/wikipedia/commons/thumb/9/9d/Siegel_TU_Braunschweig_transparent.svg/800px-Siegel_TU_Braunschweig_transparent.svg.png\"\n",
        "width=\"250\">\n",
        "<img src=\"https://upload.wikimedia.org/wikipedia/commons/3/3d/Medizinische_Hochschule_Hannover_logo.svg\"\n",
        "width=\"250\">\n",
        "<img src=\"https://images.seeklogo.com/logo-png/38/2/universidad-nacional-autonoma-de-mexico-unam-logo-png_seeklogo-387361.png\" width=\"110\">\n",
        "</center>"
      ],
      "metadata": {
        "id": "NGuVTt8k1Z7u"
      },
      "id": "NGuVTt8k1Z7u"
    },
    {
      "cell_type": "markdown",
      "source": [
        "<font color=\"Teal\" face=\"Georgia,arial\">\n",
        "  <h1 align=\"center\"><b></b></h1>\n",
        "  <h1 align=\"center\"><i><b>Fully Connected</b></i></h1>\n",
        "  </font>\n",
        "  <font color=\"Black\" face=\"Georgia,arial\">\n",
        "  <h5 align=\"center\"><i><b></b></i></h5>\n",
        "  <h5 align=\"center\"><i><b></b></i></h5>\n",
        "</font>\n",
        "\n",
        "**CONTENTS**\n",
        "\n",
        "The main idea is to build and train a simple multilayer perceptron (fully connected network) to classify data (such as handwritten digits). This process is based on deep learning techniques, where the model learns to recognize patterns from the input data through layers of neurons, activation functions, and optimization during training.\n",
        "\n",
        "FullyConnected.ipynb: Main notebook where the code is organized to load data, define the model, train it, and evaluate its performance.\n",
        "\n",
        "Results and plots: Includes accuracy metrics and visualizations of predictions.\n",
        "\n",
        "----------------------------------------\n",
        "\n",
        "**🚀 HOW TO USE THE CODE?**\n",
        "\n",
        "1. Open the Style_Transfer.ipynb notebook in Google Colab.\n",
        "\n",
        "* Go to the menu: File > Save a copy to Drive\n",
        "* Gray cells with code are executed with Shift + Enter\n",
        "\n",
        "----------------------------------------\n",
        "\n",
        "**🔧 HOW TO RUN THE NOTEBOOK?**\n",
        "\n",
        "1. Locate the block of code you want to run.\n",
        "In the upper left corner of the block, click on the triangle button ▶️\n",
        "\n",
        "2. Wait for a green check mark ✅ to appear next to the block: this indicates that it has finished executing.\n",
        "\n",
        "----------------------------------------\n",
        "\n",
        "**📝 ADDITIONAL NOTES**\n",
        "\n",
        "- The code may take between 10 and 15 minutes to load.\n",
        "\n",
        "----------------------------------------\n",
        "**🙋 IF YOU HAVE ANY QUESTIONS ABOUT HOW TO USE THE CODE, YOU CAN SEND US AN EMAIL**\n",
        "\n",
        "Email for questions -- unam.tubs@gmail.com\n",
        "\n",
        "Attach a screenshot if you get an error message."
      ],
      "metadata": {
        "id": "LRQEXzQ_1gkX"
      },
      "id": "LRQEXzQ_1gkX"
    },
    {
      "cell_type": "markdown",
      "source": [
        "The following code sets the necessary imports and loads the MNIST-dataset"
      ],
      "metadata": {
        "id": "6f17w0ykCnzx"
      },
      "id": "6f17w0ykCnzx"
    },
    {
      "cell_type": "code",
      "execution_count": 1,
      "id": "d803bd23-89e5-4ce3-9d72-f66b6e654e65",
      "metadata": {
        "id": "d803bd23-89e5-4ce3-9d72-f66b6e654e65",
        "colab": {
          "base_uri": "https://localhost:8080/"
        },
        "outputId": "73f8ec7e-1689-42a9-9806-2ee37cda2e5e"
      },
      "outputs": [
        {
          "output_type": "stream",
          "name": "stdout",
          "text": [
            "Downloading data from https://storage.googleapis.com/tensorflow/tf-keras-datasets/mnist.npz\n",
            "\u001b[1m11490434/11490434\u001b[0m \u001b[32m━━━━━━━━━━━━━━━━━━━━\u001b[0m\u001b[37m\u001b[0m \u001b[1m0s\u001b[0m 0us/step\n"
          ]
        }
      ],
      "source": [
        "# Importing required libraries\n",
        "import numpy as np\n",
        "import matplotlib.pyplot as plt\n",
        "from tensorflow.keras.datasets import mnist\n",
        "from tensorflow.keras.models import Sequential\n",
        "from tensorflow.keras.layers import Dense, Flatten\n",
        "from tensorflow.keras.utils import to_categorical\n",
        "\n",
        "# 1. Load MNIST dataset\n",
        "(X_train, y_train), (X_test, y_test) = mnist.load_data()"
      ]
    },
    {
      "cell_type": "markdown",
      "source": [
        "This code visualizes the 10th image and the corresponding label"
      ],
      "metadata": {
        "id": "fRoBN272ClsR"
      },
      "id": "fRoBN272ClsR"
    },
    {
      "cell_type": "code",
      "execution_count": 2,
      "id": "8ad5c75c-71b3-45b4-92be-2c0977371672",
      "metadata": {
        "id": "8ad5c75c-71b3-45b4-92be-2c0977371672",
        "outputId": "b2b284bb-5c66-4200-f5b8-23aa82c54a46",
        "colab": {
          "base_uri": "https://localhost:8080/",
          "height": 452
        }
      },
      "outputs": [
        {
          "output_type": "display_data",
          "data": {
            "text/plain": [
              "<Figure size 640x480 with 1 Axes>"
            ],
            "image/png": "[encoded data removed]"
          },
          "metadata": {}
        }
      ],
      "source": [
        "# 2. Visualization\n",
        "# 2a. Visualize the 10th image\n",
        "plt.imshow(X_train[9], cmap='gray')\n",
        "plt.title(f\"Ground Truth Label: {y_train[9]}\")\n",
        "plt.show()\n"
      ]
    },
    {
      "cell_type": "markdown",
      "source": [
        "If we visualize 8 random images, we can see that some of them are skewed"
      ],
      "metadata": {
        "id": "tpOhW5UWDS6R"
      },
      "id": "tpOhW5UWDS6R"
    },
    {
      "cell_type": "code",
      "execution_count": 3,
      "id": "ca68d75e-706c-4661-97e6-c1f981f52ce8",
      "metadata": {
        "id": "ca68d75e-706c-4661-97e6-c1f981f52ce8",
        "outputId": "2a1aad31-0d88-422e-996c-d52f94702b51",
        "colab": {
          "base_uri": "https://localhost:8080/",
          "height": 183
        }
      },
      "outputs": [
        {
          "output_type": "display_data",
          "data": {
            "text/plain": [
              "<Figure size 1500x500 with 8 Axes>"
            ],
            "image/png": "[encoded data removed]"
          },
          "metadata": {}
        }
      ],
      "source": [
        "# 2b. Visualize 8 random images\n",
        "fig, axes = plt.subplots(1, 8, figsize=(15, 5))\n",
        "for i, ax in enumerate(axes):\n",
        "    idx = np.random.randint(0, len(X_train))\n",
        "    ax.imshow(X_train[idx], cmap='gray')\n",
        "    ax.set_title(f\"Label: {y_train[idx]}\")\n",
        "    ax.axis('off')\n",
        "plt.show()\n"
      ]
    },
    {
      "cell_type": "markdown",
      "source": [
        "This code calculates the “moments” of the image (a way to measure the shape and orientation of the pixels).\n",
        "\n",
        "From those moments, it figures out how much the image is leaning left or right (the skew).\n",
        "\n",
        "If the image isn’t skewed, it just returns it unchanged.\n",
        "\n",
        "If it is skewed, it builds a small transformation matrix.\n",
        "\n",
        "Finally, it applies this transformation so the number looks more upright."
      ],
      "metadata": {
        "id": "WZBEAfCGEdHY"
      },
      "id": "WZBEAfCGEdHY"
    },
    {
      "cell_type": "code",
      "execution_count": 4,
      "id": "1ed409bd-b339-4c13-ab67-97e44911198b",
      "metadata": {
        "id": "1ed409bd-b339-4c13-ab67-97e44911198b"
      },
      "outputs": [],
      "source": [
        "# 3. Deskew function (example)\n",
        "import cv2\n",
        "def deskew(image):\n",
        "    moments = cv2.moments(image)\n",
        "    if moments['mu02'] == 0:\n",
        "        return image\n",
        "    skew = moments['mu11'] / moments['mu02']\n",
        "    matrix = np.float32([[1, skew, -0.5 * skew], [0, 1, 0]])\n",
        "    rows, cols = image.shape\n",
        "    return cv2.warpAffine(image, matrix, (cols, rows), flags=cv2.WARP_INVERSE_MAP | cv2.INTER_LINEAR)\n"
      ]
    },
    {
      "cell_type": "code",
      "execution_count": 5,
      "id": "7917ab3a-c79a-499a-b26b-5672a425090d",
      "metadata": {
        "id": "7917ab3a-c79a-499a-b26b-5672a425090d",
        "outputId": "d52b6909-d794-43e9-c738-e79f746d7f14",
        "colab": {
          "base_uri": "https://localhost:8080/",
          "height": 160
        }
      },
      "outputs": [
        {
          "output_type": "display_data",
          "data": {
            "text/plain": [
              "<Figure size 1500x500 with 8 Axes>"
            ],
            "image/png": "[encoded data removed]"
          },
          "metadata": {}
        }
      ],
      "source": [
        "# Deskew and visualize results\n",
        "deskewed_images = [deskew(image) for image in X_train[:8]]\n",
        "fig, axes = plt.subplots(1, 8, figsize=(15, 5))\n",
        "for ax, img in zip(axes, deskewed_images):\n",
        "    ax.imshow(img, cmap='gray')\n",
        "    ax.axis('off')\n",
        "plt.show()\n",
        "\n",
        "X_train_deskew = np.array([deskew(img) for img in X_train], dtype=np.uint8)\n",
        "X_test_deskew  = np.array([deskew(img) for img in X_test],  dtype=np.uint8)\n"
      ]
    },
    {
      "cell_type": "markdown",
      "source": [
        "For our fully connected feed forward network, we need to flatten the 28x28 image into a 1D Vector\n",
        "\n",
        "Since the pixel values are expressed as in the range of 255 but we need them as a 0-1 float, we divide the values by 255"
      ],
      "metadata": {
        "id": "bayEh9GAFmBa"
      },
      "id": "bayEh9GAFmBa"
    },
    {
      "cell_type": "code",
      "execution_count": 6,
      "id": "3b7f7b32-e001-4b94-bf7e-fa37e3661e5b",
      "metadata": {
        "id": "3b7f7b32-e001-4b94-bf7e-fa37e3661e5b"
      },
      "outputs": [],
      "source": [
        "# 4. Flatten the images\n",
        "X_train_flattened = X_train_deskew.reshape(-1, 28 * 28).astype('float32') / 255\n",
        "X_test_flattened = X_test_deskew.reshape(-1, 28 * 28).astype('float32') / 255\n"
      ]
    },
    {
      "cell_type": "code",
      "execution_count": 7,
      "id": "c230881c-ae97-4f45-8d7e-dcc09ab96fdd",
      "metadata": {
        "id": "c230881c-ae97-4f45-8d7e-dcc09ab96fdd"
      },
      "outputs": [],
      "source": [
        "# One-hot encode labels\n",
        "y_train_categorical = to_categorical(y_train, 10)\n",
        "y_test_categorical = to_categorical(y_test, 10)\n"
      ]
    },
    {
      "cell_type": "code",
      "execution_count": 8,
      "id": "7cf9a5b4-1914-4e43-a39c-280e852828ab",
      "metadata": {
        "id": "7cf9a5b4-1914-4e43-a39c-280e852828ab"
      },
      "outputs": [],
      "source": [
        "# 5. Model definition\n",
        "model = Sequential([\n",
        "    Dense(128, activation='relu'),\n",
        "    Dense(64, activation='relu'),\n",
        "    Dense(10, activation='softmax')\n",
        "])\n"
      ]
    },
    {
      "cell_type": "code",
      "execution_count": 9,
      "id": "fd24715e-b58b-4e01-b067-e933c2ebe52a",
      "metadata": {
        "id": "fd24715e-b58b-4e01-b067-e933c2ebe52a",
        "outputId": "b60412dd-e1f1-4056-e968-a5a467ab3018",
        "colab": {
          "base_uri": "https://localhost:8080/",
          "height": 228
        }
      },
      "outputs": [
        {
          "output_type": "display_data",
          "data": {
            "text/plain": [
              "\u001b[1mModel: \"sequential\"\u001b[0m\n"
            ],
            "text/html": [
              "<pre style=\"white-space:pre;overflow-x:auto;line-height:normal;font-family:Menlo,'DejaVu Sans Mono',consolas,'Courier New',monospace\"><span style=\"font-weight: bold\">Model: \"sequential\"</span>\n",
              "</pre>\n"
            ]
          },
          "metadata": {}
        },
        {
          "output_type": "display_data",
          "data": {
            "text/plain": [
              "┏━━━━━━━━━━━━━━━━━━━━━━━━━━━━━━━━━┳━━━━━━━━━━━━━━━━━━━━━━━━┳━━━━━━━━━━━━━━━┓\n",
              "┃\u001b[1m \u001b[0m\u001b[1mLayer (type)                   \u001b[0m\u001b[1m \u001b[0m┃\u001b[1m \u001b[0m\u001b[1mOutput Shape          \u001b[0m\u001b[1m \u001b[0m┃\u001b[1m \u001b[0m\u001b[1m      Param #\u001b[0m\u001b[1m \u001b[0m┃\n",
              "┡━━━━━━━━━━━━━━━━━━━━━━━━━━━━━━━━━╇━━━━━━━━━━━━━━━━━━━━━━━━╇━━━━━━━━━━━━━━━┩\n",
              "│ dense (\u001b[38;5;33mDense\u001b[0m)                   │ ?                      │   \u001b[38;5;34m0\u001b[0m (unbuilt) │\n",
              "├─────────────────────────────────┼────────────────────────┼───────────────┤\n",
              "│ dense_1 (\u001b[38;5;33mDense\u001b[0m)                 │ ?                      │   \u001b[38;5;34m0\u001b[0m (unbuilt) │\n",
              "├─────────────────────────────────┼────────────────────────┼───────────────┤\n",
              "│ dense_2 (\u001b[38;5;33mDense\u001b[0m)                 │ ?                      │   \u001b[38;5;34m0\u001b[0m (unbuilt) │\n",
              "└─────────────────────────────────┴────────────────────────┴───────────────┘\n"
            ],
            "text/html": [
              "<pre style=\"white-space:pre;overflow-x:auto;line-height:normal;font-family:Menlo,'DejaVu Sans Mono',consolas,'Courier New',monospace\">┏━━━━━━━━━━━━━━━━━━━━━━━━━━━━━━━━━┳━━━━━━━━━━━━━━━━━━━━━━━━┳━━━━━━━━━━━━━━━┓\n",
              "┃<span style=\"font-weight: bold\"> Layer (type)                    </span>┃<span style=\"font-weight: bold\"> Output Shape           </span>┃<span style=\"font-weight: bold\">       Param # </span>┃\n",
              "┡━━━━━━━━━━━━━━━━━━━━━━━━━━━━━━━━━╇━━━━━━━━━━━━━━━━━━━━━━━━╇━━━━━━━━━━━━━━━┩\n",
              "│ dense (<span style=\"color: #0087ff; text-decoration-color: #0087ff\">Dense</span>)                   │ ?                      │   <span style=\"color: #00af00; text-decoration-color: #00af00\">0</span> (unbuilt) │\n",
              "├─────────────────────────────────┼────────────────────────┼───────────────┤\n",
              "│ dense_1 (<span style=\"color: #0087ff; text-decoration-color: #0087ff\">Dense</span>)                 │ ?                      │   <span style=\"color: #00af00; text-decoration-color: #00af00\">0</span> (unbuilt) │\n",
              "├─────────────────────────────────┼────────────────────────┼───────────────┤\n",
              "│ dense_2 (<span style=\"color: #0087ff; text-decoration-color: #0087ff\">Dense</span>)                 │ ?                      │   <span style=\"color: #00af00; text-decoration-color: #00af00\">0</span> (unbuilt) │\n",
              "└─────────────────────────────────┴────────────────────────┴───────────────┘\n",
              "</pre>\n"
            ]
          },
          "metadata": {}
        },
        {
          "output_type": "display_data",
          "data": {
            "text/plain": [
              "\u001b[1m Total params: \u001b[0m\u001b[38;5;34m0\u001b[0m (0.00 B)\n"
            ],
            "text/html": [
              "<pre style=\"white-space:pre;overflow-x:auto;line-height:normal;font-family:Menlo,'DejaVu Sans Mono',consolas,'Courier New',monospace\"><span style=\"font-weight: bold\"> Total params: </span><span style=\"color: #00af00; text-decoration-color: #00af00\">0</span> (0.00 B)\n",
              "</pre>\n"
            ]
          },
          "metadata": {}
        },
        {
          "output_type": "display_data",
          "data": {
            "text/plain": [
              "\u001b[1m Trainable params: \u001b[0m\u001b[38;5;34m0\u001b[0m (0.00 B)\n"
            ],
            "text/html": [
              "<pre style=\"white-space:pre;overflow-x:auto;line-height:normal;font-family:Menlo,'DejaVu Sans Mono',consolas,'Courier New',monospace\"><span style=\"font-weight: bold\"> Trainable params: </span><span style=\"color: #00af00; text-decoration-color: #00af00\">0</span> (0.00 B)\n",
              "</pre>\n"
            ]
          },
          "metadata": {}
        },
        {
          "output_type": "display_data",
          "data": {
            "text/plain": [
              "\u001b[1m Non-trainable params: \u001b[0m\u001b[38;5;34m0\u001b[0m (0.00 B)\n"
            ],
            "text/html": [
              "<pre style=\"white-space:pre;overflow-x:auto;line-height:normal;font-family:Menlo,'DejaVu Sans Mono',consolas,'Courier New',monospace\"><span style=\"font-weight: bold\"> Non-trainable params: </span><span style=\"color: #00af00; text-decoration-color: #00af00\">0</span> (0.00 B)\n",
              "</pre>\n"
            ]
          },
          "metadata": {}
        }
      ],
      "source": [
        "# 6. Display model summary\n",
        "model.summary()"
      ]
    },
    {
      "cell_type": "code",
      "execution_count": 10,
      "id": "ecab3663-5ae6-4567-a42f-21b4f2321404",
      "metadata": {
        "id": "ecab3663-5ae6-4567-a42f-21b4f2321404"
      },
      "outputs": [],
      "source": [
        "# 7. Compile the model\n",
        "model.compile(optimizer='adam', loss='categorical_crossentropy', metrics=['accuracy'])\n",
        "\n",
        "# Explanation:\n",
        "# - optimizer='adam': smart gradient descent that adapts learning rates\n",
        "# - loss='categorical_crossentropy': compares predicted probabilities vs. one-hot true labels (for multi-class classification)\n",
        "# - metrics=['accuracy']: track how many predictions are correct"
      ]
    },
    {
      "cell_type": "code",
      "execution_count": 11,
      "id": "3dba81f7-eac3-432b-a329-bbd7feade74f",
      "metadata": {
        "id": "3dba81f7-eac3-432b-a329-bbd7feade74f",
        "outputId": "3bb1d55b-1da3-4901-a8dd-26dfdac45a0d",
        "colab": {
          "base_uri": "https://localhost:8080/"
        }
      },
      "outputs": [
        {
          "output_type": "stream",
          "name": "stdout",
          "text": [
            "Epoch 1/10\n",
            "\u001b[1m750/750\u001b[0m \u001b[32m━━━━━━━━━━━━━━━━━━━━\u001b[0m\u001b[37m\u001b[0m \u001b[1m5s\u001b[0m 5ms/step - accuracy: 0.7793 - loss: 0.7733 - val_accuracy: 0.9348 - val_loss: 0.2209\n",
            "Epoch 2/10\n",
            "\u001b[1m750/750\u001b[0m \u001b[32m━━━━━━━━━━━━━━━━━━━━\u001b[0m\u001b[37m\u001b[0m \u001b[1m5s\u001b[0m 5ms/step - accuracy: 0.9450 - loss: 0.1866 - val_accuracy: 0.9531 - val_loss: 0.1603\n",
            "Epoch 3/10\n",
            "\u001b[1m750/750\u001b[0m \u001b[32m━━━━━━━━━━━━━━━━━━━━\u001b[0m\u001b[37m\u001b[0m \u001b[1m5s\u001b[0m 6ms/step - accuracy: 0.9613 - loss: 0.1232 - val_accuracy: 0.9559 - val_loss: 0.1480\n",
            "Epoch 4/10\n",
            "\u001b[1m750/750\u001b[0m \u001b[32m━━━━━━━━━━━━━━━━━━━━\u001b[0m\u001b[37m\u001b[0m \u001b[1m3s\u001b[0m 5ms/step - accuracy: 0.9716 - loss: 0.0947 - val_accuracy: 0.9578 - val_loss: 0.1414\n",
            "Epoch 5/10\n",
            "\u001b[1m750/750\u001b[0m \u001b[32m━━━━━━━━━━━━━━━━━━━━\u001b[0m\u001b[37m\u001b[0m \u001b[1m3s\u001b[0m 5ms/step - accuracy: 0.9778 - loss: 0.0738 - val_accuracy: 0.9636 - val_loss: 0.1290\n",
            "Epoch 6/10\n",
            "\u001b[1m750/750\u001b[0m \u001b[32m━━━━━━━━━━━━━━━━━━━━\u001b[0m\u001b[37m\u001b[0m \u001b[1m6s\u001b[0m 6ms/step - accuracy: 0.9815 - loss: 0.0589 - val_accuracy: 0.9618 - val_loss: 0.1366\n",
            "Epoch 7/10\n",
            "\u001b[1m750/750\u001b[0m \u001b[32m━━━━━━━━━━━━━━━━━━━━\u001b[0m\u001b[37m\u001b[0m \u001b[1m3s\u001b[0m 5ms/step - accuracy: 0.9853 - loss: 0.0479 - val_accuracy: 0.9627 - val_loss: 0.1418\n",
            "Epoch 8/10\n",
            "\u001b[1m750/750\u001b[0m \u001b[32m━━━━━━━━━━━━━━━━━━━━\u001b[0m\u001b[37m\u001b[0m \u001b[1m3s\u001b[0m 5ms/step - accuracy: 0.9869 - loss: 0.0413 - val_accuracy: 0.9611 - val_loss: 0.1470\n",
            "Epoch 9/10\n",
            "\u001b[1m750/750\u001b[0m \u001b[32m━━━━━━━━━━━━━━━━━━━━\u001b[0m\u001b[37m\u001b[0m \u001b[1m6s\u001b[0m 5ms/step - accuracy: 0.9887 - loss: 0.0364 - val_accuracy: 0.9596 - val_loss: 0.1543\n",
            "Epoch 10/10\n",
            "\u001b[1m750/750\u001b[0m \u001b[32m━━━━━━━━━━━━━━━━━━━━\u001b[0m\u001b[37m\u001b[0m \u001b[1m3s\u001b[0m 4ms/step - accuracy: 0.9886 - loss: 0.0329 - val_accuracy: 0.9649 - val_loss: 0.1402\n"
          ]
        }
      ],
      "source": [
        "# 8. Train the model\n",
        "history = model.fit(X_train_flattened, y_train_categorical, epochs=10, batch_size=64, validation_split=0.2)"
      ]
    },
    {
      "cell_type": "code",
      "execution_count": 12,
      "id": "32e1d240-ddce-496c-83be-4b6072c0e56b",
      "metadata": {
        "id": "32e1d240-ddce-496c-83be-4b6072c0e56b",
        "colab": {
          "base_uri": "https://localhost:8080/"
        },
        "outputId": "650b3306-1c79-4317-fcb3-41d9cf45f1f5"
      },
      "outputs": [
        {
          "output_type": "stream",
          "name": "stdout",
          "text": [
            "\u001b[1m313/313\u001b[0m \u001b[32m━━━━━━━━━━━━━━━━━━━━\u001b[0m\u001b[37m\u001b[0m \u001b[1m1s\u001b[0m 2ms/step - accuracy: 0.9627 - loss: 0.1384\n",
            "Test Loss: 0.12219487130641937, Test Accuracy: 0.9667999744415283\n"
          ]
        }
      ],
      "source": [
        "# 9. Evaluate the model\n",
        "test_loss, test_accuracy = model.evaluate(X_test_flattened, y_test_categorical)\n",
        "print(f\"Test Loss: {test_loss}, Test Accuracy: {test_accuracy}\")\n"
      ]
    },
    {
      "cell_type": "code",
      "execution_count": 13,
      "id": "4faa0d58-d35b-4886-8ea7-43224ca2f0c1",
      "metadata": {
        "id": "4faa0d58-d35b-4886-8ea7-43224ca2f0c1",
        "colab": {
          "base_uri": "https://localhost:8080/"
        },
        "outputId": "5d2a1ed0-96ef-462c-e49c-d8f790cf7909"
      },
      "outputs": [
        {
          "output_type": "stream",
          "name": "stdout",
          "text": [
            "\u001b[1m1/1\u001b[0m \u001b[32m━━━━━━━━━━━━━━━━━━━━\u001b[0m\u001b[37m\u001b[0m \u001b[1m0s\u001b[0m 72ms/step\n",
            "Prediction for image 0: 7, True Label: 7\n",
            "Prediction for image 1: 2, True Label: 2\n",
            "Prediction for image 2: 1, True Label: 1\n",
            "Prediction for image 3: 0, True Label: 0\n",
            "Prediction for image 4: 4, True Label: 4\n"
          ]
        }
      ],
      "source": [
        "# 10. Predict and interpret\n",
        "predictions = model.predict(X_test_flattened[:5])\n",
        "for i, prediction in enumerate(predictions):\n",
        "    print(f\"Prediction for image {i}: {np.argmax(prediction)}, True Label: {y_test[i]}\")"
      ]
    },
    {
      "cell_type": "code",
      "execution_count": 14,
      "id": "342f0e31-5687-49e4-a7b5-e507e556410e",
      "metadata": {
        "id": "342f0e31-5687-49e4-a7b5-e507e556410e",
        "colab": {
          "base_uri": "https://localhost:8080/",
          "height": 200
        },
        "outputId": "97da7f46-3fec-41f1-b22f-c102cdfae4d1"
      },
      "outputs": [
        {
          "output_type": "stream",
          "name": "stdout",
          "text": [
            "\u001b[1m313/313\u001b[0m \u001b[32m━━━━━━━━━━━━━━━━━━━━\u001b[0m\u001b[37m\u001b[0m \u001b[1m0s\u001b[0m 1ms/step\n"
          ]
        },
        {
          "output_type": "display_data",
          "data": {
            "text/plain": [
              "<Figure size 1500x500 with 8 Axes>"
            ],
            "image/png": "[encoded data removed]"
          },
          "metadata": {}
        }
      ],
      "source": [
        "# 11. Analyze incorrect predictions\n",
        "y_pred = np.argmax(model.predict(X_test_flattened), axis=1)\n",
        "incorrect_idx = np.where(y_pred != y_test)[0]\n",
        "\n",
        "# Plot some incorrect predictions\n",
        "fig, axes = plt.subplots(1, 8, figsize=(15, 5))\n",
        "for ax, idx in zip(axes, incorrect_idx[:8]):\n",
        "    ax.imshow(X_test[idx], cmap='gray')\n",
        "    ax.set_title(f\"Pred: {y_pred[idx]}, True: {y_test[idx]}\")\n",
        "    ax.axis('off')\n",
        "plt.show()"
      ]
    }
  ],
  "metadata": {
    "kernelspec": {
      "display_name": "Python 3 (ipykernel)",
      "language": "python",
      "name": "python3"
    },
    "language_info": {
      "codemirror_mode": {
        "name": "ipython",
        "version": 3
      },
      "file_extension": ".py",
      "mimetype": "text/x-python",
      "name": "python",
      "nbconvert_exporter": "python",
      "pygments_lexer": "ipython3",
      "version": "3.9.13"
    },
    "colab": {
      "provenance": []
    }
  },
  "nbformat": 4,
  "nbformat_minor": 5
}